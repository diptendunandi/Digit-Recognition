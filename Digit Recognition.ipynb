{
 "cells": [
  {
   "cell_type": "code",
   "execution_count": 13,
   "id": "7c67d18c",
   "metadata": {},
   "outputs": [
    {
     "name": "stdout",
     "output_type": "stream",
     "text": [
      "Requirement already satisfied: opencv-python in c:\\users\\diptendu nandi\\anaconda3\\lib\\site-packages (4.5.4.60)\n",
      "Requirement already satisfied: numpy>=1.19.3 in c:\\users\\diptendu nandi\\anaconda3\\lib\\site-packages (from opencv-python) (1.20.3)\n",
      "Note: you may need to restart the kernel to use updated packages.\n"
     ]
    }
   ],
   "source": [
    "pip install opencv-python"
   ]
  },
  {
   "cell_type": "code",
   "execution_count": 15,
   "id": "a0c5414e",
   "metadata": {},
   "outputs": [
    {
     "name": "stdout",
     "output_type": "stream",
     "text": [
      "Epoch 1/21\n",
      "1875/1875 [==============================] - 4s 2ms/step - loss: 0.2678 - accuracy: 0.9221\n",
      "Epoch 2/21\n",
      "1875/1875 [==============================] - 4s 2ms/step - loss: 0.1077 - accuracy: 0.9674\n",
      "Epoch 3/21\n",
      "1875/1875 [==============================] - 4s 2ms/step - loss: 0.0755 - accuracy: 0.9761\n",
      "Epoch 4/21\n",
      "1875/1875 [==============================] - 4s 2ms/step - loss: 0.0554 - accuracy: 0.9824\n",
      "Epoch 5/21\n",
      "1875/1875 [==============================] - 4s 2ms/step - loss: 0.0412 - accuracy: 0.9866\n",
      "Epoch 6/21\n",
      "1875/1875 [==============================] - 4s 2ms/step - loss: 0.0348 - accuracy: 0.9883\n",
      "Epoch 7/21\n",
      "1875/1875 [==============================] - 3s 2ms/step - loss: 0.0246 - accuracy: 0.9916\n",
      "Epoch 8/21\n",
      "1875/1875 [==============================] - 3s 2ms/step - loss: 0.0214 - accuracy: 0.9929\n",
      "Epoch 9/21\n",
      "1875/1875 [==============================] - 4s 2ms/step - loss: 0.0194 - accuracy: 0.9932\n",
      "Epoch 10/21\n",
      "1875/1875 [==============================] - 3s 2ms/step - loss: 0.0132 - accuracy: 0.9954\n",
      "Epoch 11/21\n",
      "1875/1875 [==============================] - 4s 2ms/step - loss: 0.0149 - accuracy: 0.9948\n",
      "Epoch 12/21\n",
      "1875/1875 [==============================] - 3s 2ms/step - loss: 0.0128 - accuracy: 0.9956\n",
      "Epoch 13/21\n",
      "1875/1875 [==============================] - 3s 2ms/step - loss: 0.0128 - accuracy: 0.9962\n",
      "Epoch 14/21\n",
      "1875/1875 [==============================] - 3s 2ms/step - loss: 0.0105 - accuracy: 0.9964\n",
      "Epoch 15/21\n",
      "1875/1875 [==============================] - 3s 2ms/step - loss: 0.0104 - accuracy: 0.9968\n",
      "Epoch 16/21\n",
      "1875/1875 [==============================] - 3s 2ms/step - loss: 0.0087 - accuracy: 0.9972\n",
      "Epoch 17/21\n",
      "1875/1875 [==============================] - 3s 2ms/step - loss: 0.0099 - accuracy: 0.9966\n",
      "Epoch 18/21\n",
      "1875/1875 [==============================] - 3s 2ms/step - loss: 0.0063 - accuracy: 0.9978\n",
      "Epoch 19/21\n",
      "1875/1875 [==============================] - 4s 2ms/step - loss: 0.0083 - accuracy: 0.9970\n",
      "Epoch 20/21\n",
      "1875/1875 [==============================] - 4s 2ms/step - loss: 0.0085 - accuracy: 0.9970\n",
      "Epoch 21/21\n",
      "1875/1875 [==============================] - 4s 2ms/step - loss: 0.0058 - accuracy: 0.9983: 0s - l\n",
      "313/313 [==============================] - 1s 2ms/step - loss: 0.1644 - accuracy: 0.9755\n",
      "0.9754999876022339\n",
      "0.16439896821975708\n",
      "----------------\n",
      "The predicted value is :  3\n",
      "----------------\n"
     ]
    },
    {
     "data": {
      "image/png": "[encoded data removed]",
      "text/plain": [
       "<Figure size 432x288 with 1 Axes>"
      ]
     },
     "metadata": {
      "needs_background": "light"
     },
     "output_type": "display_data"
    },
    {
     "name": "stdout",
     "output_type": "stream",
     "text": [
      "----------------\n",
      "The predicted value is :  4\n",
      "----------------\n"
     ]
    },
    {
     "data": {
      "image/png": "[encoded data removed]",
      "text/plain": [
       "<Figure size 432x288 with 1 Axes>"
      ]
     },
     "metadata": {
      "needs_background": "light"
     },
     "output_type": "display_data"
    },
    {
     "name": "stdout",
     "output_type": "stream",
     "text": [
      "----------------\n",
      "The predicted value is :  7\n",
      "----------------\n"
     ]
    },
    {
     "data": {
      "image/png": "[encoded data removed]",
      "text/plain": [
       "<Figure size 432x288 with 1 Axes>"
      ]
     },
     "metadata": {
      "needs_background": "light"
     },
     "output_type": "display_data"
    },
    {
     "name": "stdout",
     "output_type": "stream",
     "text": [
      "----------------\n",
      "The predicted value is :  8\n",
      "----------------\n"
     ]
    },
    {
     "data": {
      "image/png": "[encoded data removed]",
      "text/plain": [
       "<Figure size 432x288 with 1 Axes>"
      ]
     },
     "metadata": {
      "needs_background": "light"
     },
     "output_type": "display_data"
    }
   ],
   "source": [
    "import pandas as pd\n",
    "import tensorflow as tf\n",
    "import numpy as np\n",
    "import cv2 as cv  \n",
    "import matplotlib.pyplot as plt\n",
    "from tensorflow.python.keras.metrics import accuracy\n",
    "mnist = tf.keras.datasets.mnist\n",
    "\n",
    "(x_train, y_train),(x_test,y_test)=mnist.load_data()# split the data in training set as tuple\n",
    "\n",
    "x_train = tf.keras.utils.normalize(x_train , axis = 1)\n",
    "x_test = tf.keras.utils.normalize(x_test , axis = 1)\n",
    "\n",
    "model= tf.keras.models.Sequential()\n",
    "model.add(tf.keras.layers.Flatten(input_shape=(28,28)))\n",
    "model.add(tf.keras.layers.Dense(units=128,activation=tf.nn.relu))\n",
    "model.add(tf.keras.layers.Dense(units=128,activation=tf.nn.relu))\n",
    "model.add(tf.keras.layers.Dense(units=10,activation=tf.nn.softmax))\n",
    "model.compile(optimizer='adam' , loss='sparse_categorical_crossentropy',metrics=['accuracy'])\n",
    "model.fit(x_train,y_train, epochs=21)#As the number of epochs increases beyond 11,chance of overfitting of the model on training data\n",
    "\n",
    "loss , accuracy  =model.evaluate(x_test,y_test)\n",
    "print(accuracy)\n",
    "print(loss)\n",
    "\n",
    "\n",
    "\n",
    "for x in range(1,5):\n",
    "    # now we are going to read images it with open cv\n",
    "\n",
    "    img=cv.imread(f'{x}.png')[:,:,0]#all of it and 1st and last one\n",
    "    img=np.invert(np.array([img]))#invert black to white in images so that model wont get confues\n",
    "    prediction=model.predict(img)\n",
    "    print(\"----------------\")\n",
    "    print(\"The predicted value is : \",np.argmax(prediction))\n",
    "    print(\"----------------\")\n",
    "    plt.imshow(img[0],cmap=plt.cm.binary)#change the color in black and white\n",
    "    plt.show()"
   ]
  },
  {
   "cell_type": "code",
   "execution_count": null,
   "id": "90cc7404",
   "metadata": {},
   "outputs": [],
   "source": []
  },
  {
   "cell_type": "code",
   "execution_count": null,
   "id": "a1bdf6f7",
   "metadata": {},
   "outputs": [],
   "source": []
  }
 ],
 "metadata": {
  "kernelspec": {
   "display_name": "Python 3 (ipykernel)",
   "language": "python",
   "name": "python3"
  },
  "language_info": {
   "codemirror_mode": {
    "name": "ipython",
    "version": 3
   },
   "file_extension": ".py",
   "mimetype": "text/x-python",
   "name": "python",
   "nbconvert_exporter": "python",
   "pygments_lexer": "ipython3",
   "version": "3.9.7"
  }
 },
 "nbformat": 4,
 "nbformat_minor": 5
}
